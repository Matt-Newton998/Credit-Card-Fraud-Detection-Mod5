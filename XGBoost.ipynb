{
 "cells": [
  {
   "cell_type": "markdown",
   "metadata": {},
   "source": [
    "# XGBoost Model"
   ]
  },
  {
   "cell_type": "code",
   "execution_count": 59,
   "metadata": {},
   "outputs": [],
   "source": [
    "# Custom Functions\n",
    "from Credit_Func import *\n",
    "\n",
    "# Import the Basic Libraries\n",
    "import pandas as pd\n",
    "import numpy as np\n",
    "import matplotlib.pylab as plt\n",
    "%matplotlib inline\n",
    "import seaborn as sns\n",
    "sns.set_style('darkgrid')\n",
    "\n",
    "# Other\n",
    "import pickle\n",
    "\n",
    "# Model\n",
    "from xgboost import XGBClassifier\n",
    "\n",
    "# Sklearn\n",
    "from sklearn.pipeline import Pipeline\n",
    "\n",
    "from sklearn.model_selection import GridSearchCV, train_test_split\n",
    "\n",
    "from sklearn.preprocessing import StandardScaler"
   ]
  },
  {
   "cell_type": "code",
   "execution_count": 263,
   "metadata": {},
   "outputs": [
    {
     "data": {
      "text/plain": [
       "134"
      ]
     },
     "execution_count": 263,
     "metadata": {},
     "output_type": "execute_result"
    }
   ],
   "source": [
    "fpr"
   ]
  },
  {
   "cell_type": "code",
   "execution_count": 267,
   "metadata": {},
   "outputs": [],
   "source": [
    "def plot_confusion_matix(y_val, y_pred, classes, model_name=None):\n",
    "    import itertools\n",
    "    \n",
    "    accuracy = accuracy_score(y_val, y_pred)\n",
    "    precision = precision_score(y_val, y_pred)\n",
    "    recall = recall_score(y_val, y_pred)\n",
    "    f1 = f1_score(y_val, y_pred)\n",
    "    print('\\n clasification report:\\n', classification_report(y_val,y_pred))\n",
    "    print(\"-----------------------------------------------\")\n",
    "#     print(f\"Accuracy: {round(accuracy*100,3)}%\")\n",
    "#     print(f\"Precision: {round(precision*100,3)}%\")\n",
    "#     print(f\"Recall: {round(recall*100,3)}%\")\n",
    "#     print(f\"f1_score: {round(f1*100,3)}%\")\n",
    "\n",
    "    cnf_matrix = confusion_matrix(y_val, y_pred)\n",
    "    fpr = int(cnf_matrix[0][1] + cnf_matrix[1][1])\n",
    "    print(f\"Frauds: {y_val.sum()} | Missed: {round((cnf_matrix[1][0]/y_val.sum())*100,1)}%\")\n",
    "    print(f\"Total Flagged: {fpr} | Real: {round((cnf_matrix[1][0]/fpr)*100,1)}%\")\n",
    "    \n",
    "    # Create the basic matrix\n",
    "    plt.imshow(cnf_matrix,  cmap=plt.cm.Blues) \n",
    "\n",
    "    # Add title and axis labels\n",
    "    plt.title(f'{model_name} Confusion Matrix')\n",
    "    plt.ylabel('True label')\n",
    "    plt.xlabel('Predicted label')\n",
    "\n",
    "    # Add appropriate axis scales\n",
    "    class_names = ['',classes[0],'',classes[1],'']# set(y) # Get class labels to add to matrix\n",
    "    tick_marks = [-0.5,0,0.5,1,1.5]\n",
    "    \n",
    "    # Add appropriate axis scales\n",
    "    plt.xticks(tick_marks, class_names, rotation=45)\n",
    "    plt.yticks(tick_marks, class_names)\n",
    "\n",
    "    # Add labels to each cell\n",
    "    thresh = cnf_matrix.max() / 2. # Used for text coloring below\n",
    "    # Here we iterate through the confusion matrix and append labels to our visualization \n",
    "    for i, j in itertools.product(range(cnf_matrix.shape[0]), range(cnf_matrix.shape[1])):\n",
    "            plt.text(j, i, cnf_matrix[i, j],\n",
    "                     horizontalalignment='center',\n",
    "                     color='white' if cnf_matrix[i, j] > thresh else 'black')"
   ]
  },
  {
   "cell_type": "code",
   "execution_count": 17,
   "metadata": {},
   "outputs": [],
   "source": [
    "df = pd.read_csv('creditcard.csv')"
   ]
  },
  {
   "cell_type": "code",
   "execution_count": 18,
   "metadata": {},
   "outputs": [],
   "source": [
    "time = df['Time']\n",
    "new_time = []\n",
    "for d in time:\n",
    "    if d <= 86400:     # There are 86400 seconds in a day\n",
    "        new_time.append(d)\n",
    "    else:\n",
    "        new_time.append(d - 86400)\n",
    "        \n",
    "df['Time'] = new_time      "
   ]
  },
  {
   "cell_type": "code",
   "execution_count": 19,
   "metadata": {},
   "outputs": [],
   "source": [
    "y = df.Class\n",
    "\n",
    "X = df.drop(columns=['Class'], axis=1)"
   ]
  },
  {
   "cell_type": "markdown",
   "metadata": {},
   "source": [
    "# TTS"
   ]
  },
  {
   "cell_type": "code",
   "execution_count": 20,
   "metadata": {},
   "outputs": [
    {
     "name": "stdout",
     "output_type": "stream",
     "text": [
      "Data Shapes:\n",
      "X_tv: (199364, 30) | X_test: (85443, 30) | y_tv (199364,) | y_test (85443,)\n",
      "Number of Frauds in TV: 356 | 0.17857%\n",
      "Number of Frauds in Test: 136 | 0.15917%\n"
     ]
    }
   ],
   "source": [
    "X_tv, X_test, y_tv, y_test = train_test_split(X, y, test_size=0.3, random_state=42)\n",
    "\n",
    "print(\"Data Shapes:\")\n",
    "print(f\"X_tv: {X_tv.shape} | X_test: {X_test.shape} | y_tv {y_tv.shape} | y_test {y_test.shape}\")\n",
    "print(f\"Number of Frauds in TV: {y_tv.sum()} | {round((y_tv.sum() / y_tv.shape[0])*100, 5)}%\")\n",
    "print(f\"Number of Frauds in Test: {y_test.sum()} | {round((y_test.sum() / y_test.shape[0])*100, 5)}%\")"
   ]
  },
  {
   "cell_type": "code",
   "execution_count": 21,
   "metadata": {},
   "outputs": [
    {
     "name": "stdout",
     "output_type": "stream",
     "text": [
      "X_train: (139554, 30) | X_val: (59810, 30) | y_train (139554,) | y_val (59810,)\n",
      "Number of Frauds in Train: 258 | 0.18487%\n",
      "Number of Frauds in Validation: 98 | 0.16385%\n"
     ]
    }
   ],
   "source": [
    "X_train, X_val, y_train, y_val = train_test_split(X_tv, y_tv, test_size=0.3, random_state=42)\n",
    "\n",
    "print(f\"X_train: {X_train.shape} | X_val: {X_val.shape} | y_train {y_train.shape} | y_val {y_val.shape}\")\n",
    "print(f\"Number of Frauds in Train: {y_train.sum()} | {round((y_train.sum() / y_train.shape[0])*100, 5)}%\")\n",
    "print(f\"Number of Frauds in Validation: {y_val.sum()} | {round((y_val.sum() / y_val.shape[0])*100, 5)}%\")"
   ]
  },
  {
   "cell_type": "markdown",
   "metadata": {},
   "source": [
    "# Scaling"
   ]
  },
  {
   "cell_type": "code",
   "execution_count": 22,
   "metadata": {},
   "outputs": [
    {
     "name": "stdout",
     "output_type": "stream",
     "text": [
      "mean:  0.0\n",
      "standard dev:  1.0\n",
      "mean:  -0.0\n",
      "standard dev:  1.0\n",
      "mean:  0.0\n",
      "standard dev:  0.99\n"
     ]
    }
   ],
   "source": [
    "scaler = StandardScaler()\n",
    "X_train_transformed = scaler.fit_transform(X_train)\n",
    "X_Val_transformed = scaler.transform(X_val)\n",
    "X_test_transformed = scaler.transform(X_test)\n",
    "trans = [X_train_transformed, X_Val_transformed, X_test_transformed]\n",
    "\n",
    "for X in trans:\n",
    "    print((\"mean: \"), np.round(X.mean(), 2))\n",
    "    print((\"standard dev: \"), np.round(X.std(), 2))"
   ]
  },
  {
   "cell_type": "code",
   "execution_count": 23,
   "metadata": {},
   "outputs": [],
   "source": [
    "# Reset data\n",
    "X_train = X_train_transformed\n",
    "X_val = X_Val_transformed\n",
    "X_test = X_test_transformed"
   ]
  },
  {
   "cell_type": "markdown",
   "metadata": {},
   "source": [
    "# Sampling"
   ]
  },
  {
   "cell_type": "code",
   "execution_count": 26,
   "metadata": {},
   "outputs": [],
   "source": [
    "from imblearn.over_sampling import SMOTE, ADASYN"
   ]
  },
  {
   "cell_type": "markdown",
   "metadata": {},
   "source": [
    "## SMOTE"
   ]
  },
  {
   "cell_type": "code",
   "execution_count": 27,
   "metadata": {},
   "outputs": [
    {
     "name": "stdout",
     "output_type": "stream",
     "text": [
      "original class distribution:\n",
      "0    139296\n",
      "1       258\n",
      "Name: Class, dtype: int64\n",
      "\n",
      "\n",
      "SMOTE_even class distribution\n",
      "1    139296\n",
      "0    139296\n",
      "Name: Class, dtype: int64\n"
     ]
    }
   ],
   "source": [
    "# Previous original class distribution\n",
    "print(\"original class distribution:\")\n",
    "print(y_train.value_counts())\n",
    "\n",
    "# Fit SMOTE to training data\n",
    "smote = SMOTE(sampling_strategy='auto') # resample all classes but the majority class\n",
    "X_train_smote, y_train_smote = smote.fit_sample(X_train, y_train) \n",
    "\n",
    "# Preview synthetic sample class distribution\n",
    "print('\\n')\n",
    "print(\"SMOTE_even class distribution\")\n",
    "print(pd.Series(y_train_smote).value_counts()) "
   ]
  },
  {
   "cell_type": "markdown",
   "metadata": {},
   "source": [
    "## ADASYN"
   ]
  },
  {
   "cell_type": "code",
   "execution_count": 28,
   "metadata": {},
   "outputs": [
    {
     "name": "stdout",
     "output_type": "stream",
     "text": [
      "original class distribution:\n",
      "0    139296\n",
      "1       258\n",
      "Name: Class, dtype: int64\n",
      "\n",
      "\n",
      "ADASYN class distribution\n",
      "1    139323\n",
      "0    139296\n",
      "Name: Class, dtype: int64\n"
     ]
    }
   ],
   "source": [
    "# Previous original class distribution\n",
    "print(\"original class distribution:\")\n",
    "print(y_train.value_counts())\n",
    "\n",
    "# Fit SMOTE to training data\n",
    "adasyn = ADASYN(sampling_strategy='auto') # resample all classes but the majority class\n",
    "X_train_adasyn, y_train_adasyn = adasyn.fit_sample(X_train, y_train) \n",
    "\n",
    "# Preview synthetic sample class distribution\n",
    "print('\\n')\n",
    "print(\"ADASYN class distribution\")\n",
    "print(pd.Series(y_train_adasyn).value_counts()) "
   ]
  },
  {
   "cell_type": "markdown",
   "metadata": {},
   "source": [
    "# XGBoost Model"
   ]
  },
  {
   "cell_type": "code",
   "execution_count": 30,
   "metadata": {},
   "outputs": [],
   "source": [
    "param_grid_xg_final = {\n",
    "    'learning_rate': [0.4],\n",
    "    'max_depth': [4],\n",
    "    'min_child_weight': [4],\n",
    "    'subsample': [0.9],\n",
    "    'n_estimators': [100],\n",
    "}"
   ]
  },
  {
   "cell_type": "code",
   "execution_count": 32,
   "metadata": {},
   "outputs": [
    {
     "name": "stdout",
     "output_type": "stream",
     "text": [
      "Fitting 5 folds for each of 1 candidates, totalling 5 fits\n"
     ]
    },
    {
     "name": "stderr",
     "output_type": "stream",
     "text": [
      "[Parallel(n_jobs=1)]: Using backend SequentialBackend with 1 concurrent workers.\n",
      "[Parallel(n_jobs=1)]: Done   5 out of   5 | elapsed:  6.9min finished\n"
     ]
    },
    {
     "data": {
      "text/plain": [
       "GridSearchCV(cv=5, error_score=nan,\n",
       "             estimator=XGBClassifier(base_score=0.5, booster='gbtree',\n",
       "                                     colsample_bylevel=1, colsample_bynode=1,\n",
       "                                     colsample_bytree=1, gamma=0,\n",
       "                                     learning_rate=0.1, max_delta_step=0,\n",
       "                                     max_depth=3, min_child_weight=1,\n",
       "                                     missing=None, n_estimators=100, n_jobs=1,\n",
       "                                     nthread=None, objective='binary:logistic',\n",
       "                                     random_state=123, reg_alpha=0,\n",
       "                                     reg_lambda=1, scale_pos_weight=1,\n",
       "                                     seed=None, silent=None, subsample=1,\n",
       "                                     verbosity=1),\n",
       "             iid='deprecated', n_jobs=1,\n",
       "             param_grid={'learning_rate': [0.4], 'max_depth': [4],\n",
       "                         'min_child_weight': [4], 'n_estimators': [100],\n",
       "                         'subsample': [0.9]},\n",
       "             pre_dispatch='2*n_jobs', refit=True, return_train_score=True,\n",
       "             scoring='roc_auc', verbose=1)"
      ]
     },
     "execution_count": 32,
     "metadata": {},
     "output_type": "execute_result"
    }
   ],
   "source": [
    "gs_xg = GridSearchCV(estimator=XGBClassifier(random_state=123),\n",
    "            param_grid=param_grid_xg_final,\n",
    "            scoring='roc_auc',\n",
    "            cv=5, verbose=1, return_train_score = True,  n_jobs=1)\n",
    "\n",
    "gs_xg.fit(X_train_smote, y_train_smote)"
   ]
  },
  {
   "cell_type": "code",
   "execution_count": 33,
   "metadata": {},
   "outputs": [
    {
     "data": {
      "text/plain": [
       "['xgboost_model_final.joblib']"
      ]
     },
     "execution_count": 33,
     "metadata": {},
     "output_type": "execute_result"
    }
   ],
   "source": [
    "from joblib import dump, load\n",
    "dump(gs_xg, 'xgboost_model_final.joblib') "
   ]
  },
  {
   "cell_type": "code",
   "execution_count": 34,
   "metadata": {},
   "outputs": [
    {
     "data": {
      "text/html": [
       "<div>\n",
       "<style scoped>\n",
       "    .dataframe tbody tr th:only-of-type {\n",
       "        vertical-align: middle;\n",
       "    }\n",
       "\n",
       "    .dataframe tbody tr th {\n",
       "        vertical-align: top;\n",
       "    }\n",
       "\n",
       "    .dataframe thead th {\n",
       "        text-align: right;\n",
       "    }\n",
       "</style>\n",
       "<table border=\"1\" class=\"dataframe\">\n",
       "  <thead>\n",
       "    <tr style=\"text-align: right;\">\n",
       "      <th></th>\n",
       "      <th>learning_rate</th>\n",
       "      <th>max_depth</th>\n",
       "      <th>min_child_weight</th>\n",
       "      <th>n_estimators</th>\n",
       "      <th>subsample</th>\n",
       "      <th>mean_test_score</th>\n",
       "      <th>std_test_score</th>\n",
       "      <th>mean_train_score</th>\n",
       "      <th>std_train_score</th>\n",
       "    </tr>\n",
       "  </thead>\n",
       "  <tbody>\n",
       "    <tr>\n",
       "      <td>0</td>\n",
       "      <td>0.4</td>\n",
       "      <td>4</td>\n",
       "      <td>4</td>\n",
       "      <td>100</td>\n",
       "      <td>0.9</td>\n",
       "      <td>0.99999</td>\n",
       "      <td>0.000017</td>\n",
       "      <td>1.0</td>\n",
       "      <td>5.112021e-07</td>\n",
       "    </tr>\n",
       "  </tbody>\n",
       "</table>\n",
       "</div>"
      ],
      "text/plain": [
       "   learning_rate  max_depth  min_child_weight  n_estimators  subsample  \\\n",
       "0            0.4          4                 4           100        0.9   \n",
       "\n",
       "   mean_test_score  std_test_score  mean_train_score  std_train_score  \n",
       "0          0.99999        0.000017               1.0     5.112021e-07  "
      ]
     },
     "execution_count": 34,
     "metadata": {},
     "output_type": "execute_result"
    }
   ],
   "source": [
    "opt_xg = GS_Output_DataFrame(gs_xg)\n",
    "opt_xg.sort_values(by='mean_test_score', ascending=False)"
   ]
  },
  {
   "cell_type": "code",
   "execution_count": 35,
   "metadata": {},
   "outputs": [
    {
     "name": "stdout",
     "output_type": "stream",
     "text": [
      "{'learning_rate': 0.4, 'max_depth': 4, 'min_child_weight': 4, 'n_estimators': 100, 'subsample': 0.9}\n"
     ]
    }
   ],
   "source": [
    "best_model = gs_xg.best_estimator_\n",
    "print(gs_xg.best_params_)"
   ]
  },
  {
   "cell_type": "code",
   "execution_count": 50,
   "metadata": {},
   "outputs": [
    {
     "data": {
      "text/plain": [
       "array([0, 0, 0, ..., 0, 0, 0])"
      ]
     },
     "execution_count": 50,
     "metadata": {},
     "output_type": "execute_result"
    }
   ],
   "source": [
    "y_pred = best_model.predict(X_val)\n",
    "y_pred"
   ]
  },
  {
   "cell_type": "code",
   "execution_count": 49,
   "metadata": {},
   "outputs": [
    {
     "data": {
      "text/plain": [
       "array([[9.9912333e-01, 8.7664794e-04],\n",
       "       [1.0000000e+00, 5.3829696e-09],\n",
       "       [9.9999517e-01, 4.8051425e-06],\n",
       "       ...,\n",
       "       [9.9985373e-01, 1.4627178e-04],\n",
       "       [9.9999833e-01, 1.6551601e-06],\n",
       "       [9.9891382e-01, 1.0861632e-03]], dtype=float32)"
      ]
     },
     "execution_count": 49,
     "metadata": {},
     "output_type": "execute_result"
    }
   ],
   "source": [
    "y_prob = best_model.predict_proba(X_val)\n",
    "y_prob"
   ]
  },
  {
   "cell_type": "code",
   "execution_count": 268,
   "metadata": {},
   "outputs": [
    {
     "name": "stdout",
     "output_type": "stream",
     "text": [
      "\n",
      " clasification report:\n",
      "               precision    recall  f1-score   support\n",
      "\n",
      "           0       1.00      1.00      1.00     59712\n",
      "           1       0.61      0.84      0.71        98\n",
      "\n",
      "    accuracy                           1.00     59810\n",
      "   macro avg       0.81      0.92      0.85     59810\n",
      "weighted avg       1.00      1.00      1.00     59810\n",
      "\n",
      "-----------------------------------------------\n",
      "Frauds: 98 | Missed: 16.3%\n",
      "Total Flagged: 134 | Real: 11.9%\n"
     ]
    },
    {
     "data": {
      "image/png": "[encoded data removed]",
      "text/plain": [
       "<Figure size 432x288 with 1 Axes>"
      ]
     },
     "metadata": {},
     "output_type": "display_data"
    }
   ],
   "source": [
    "plot_confusion_matix(y_val, y_pred, ['Normal', \"Fraud\"], \"XGBoost\")"
   ]
  },
  {
   "cell_type": "code",
   "execution_count": 100,
   "metadata": {},
   "outputs": [],
   "source": [
    "def roc_plot(model,X_train_smote,y_train_smote,X_val,y_val):\n",
    "    train_prob = model.predict_proba(X_train)[:,1]\n",
    "    val_prob = model.predict_proba(X_val)[:,1]\n",
    "    plt.figure(figsize=(7,7))\n",
    "    for data in [[y_train, train_prob],[y_val, val_prob]]: # ,[y_test, test_prob]\n",
    "        fpr, tpr, threshold = roc_curve(data[0], data[1])\n",
    "        plt.plot(fpr, tpr)\n",
    "    annot(fpr, tpr, threshold)\n",
    "    plt.plot([0, 1], [0, 1], color='black', linestyle='--')\n",
    "    plt.ylabel('TPR (power)')\n",
    "    plt.xlabel('FPR (alpha)')\n",
    "    plt.legend(['train','val'])\n",
    "    plt.show()"
   ]
  },
  {
   "cell_type": "code",
   "execution_count": 101,
   "metadata": {},
   "outputs": [
    {
     "data": {
      "image/png": "[encoded data removed]",
      "text/plain": [
       "<Figure size 504x504 with 1 Axes>"
      ]
     },
     "metadata": {},
     "output_type": "display_data"
    }
   ],
   "source": [
    "roc_plot(best_model, X_train,y_train,X_val,y_val)"
   ]
  },
  {
   "cell_type": "markdown",
   "metadata": {},
   "source": [
    "## Feature Importance"
   ]
  },
  {
   "cell_type": "code",
   "execution_count": 97,
   "metadata": {},
   "outputs": [],
   "source": [
    "features = pd.DataFrame(best_model.feature_importances_, index=[X_tv.columns], columns=['Importance'])\n",
    "features = features.loc[features['Importance'] != 0]\n",
    "# features"
   ]
  },
  {
   "cell_type": "code",
   "execution_count": 99,
   "metadata": {},
   "outputs": [
    {
     "data": {
      "image/png": "[encoded data removed]",
      "text/plain": [
       "<Figure size 576x576 with 1 Axes>"
      ]
     },
     "metadata": {},
     "output_type": "display_data"
    }
   ],
   "source": [
    "def plot_feature_importances(model, X):\n",
    "    n_features = X.shape[1]\n",
    "    plt.figure(figsize=(8,8))\n",
    "    plt.barh(range(n_features), model.feature_importances_, align='center') \n",
    "    plt.yticks(np.arange(n_features), X.columns.values) \n",
    "    plt.xlabel('Feature importance')\n",
    "    plt.ylabel('Feature')\n",
    "    plt.title('Feature Importance XGBoost', fontsize=18)\n",
    "\n",
    "plot_feature_importances(best_model, X_tv)"
   ]
  },
  {
   "cell_type": "markdown",
   "metadata": {},
   "source": [
    "## Threshold Selection"
   ]
  },
  {
   "cell_type": "code",
   "execution_count": 64,
   "metadata": {},
   "outputs": [
    {
     "data": {
      "text/plain": [
       "array([[59660,    52],\n",
       "       [   16,    82]])"
      ]
     },
     "execution_count": 64,
     "metadata": {},
     "output_type": "execute_result"
    }
   ],
   "source": [
    "cnf_matrix = confusion_matrix(y_val, y_pred)\n",
    "cnf_matrix"
   ]
  },
  {
   "cell_type": "code",
   "execution_count": 70,
   "metadata": {},
   "outputs": [],
   "source": [
    "prevalence = df['Class'].sum()/df.shape[0]\n",
    "fraud_cost_coef = 122.21132113821139\n",
    "normal_cost_coef = 88.29102242231328"
   ]
  },
  {
   "cell_type": "code",
   "execution_count": 230,
   "metadata": {},
   "outputs": [],
   "source": [
    "def threshold_selection_mark(prevalence, CostFP_minus_CostTN, CostFN_minus_CostTP, y, y_hat):\n",
    "    \"\"\"Calculate the optimal treshold depending on prevalence, costs, true positive rate and false positive rate\n",
    "    Args:\n",
    "        prevalence (float): The percentage of positives in the population\n",
    "        CostFP_minus_CostTN (float): [description]\n",
    "        CostFN_minus_CostTP (float): [description]\n",
    "        y (list): True labels (classes)\n",
    "        y_hat (list): Predicted labels (classes)\n",
    "    Returns:\n",
    "        [float]: Best threshold\n",
    "    \"\"\"\n",
    "    fpr, tpr, thresholds = roc_curve(y, y_hat)\n",
    "    m = ((1 - prevalence) / prevalence) * ((CostFP_minus_CostTN) / (CostFN_minus_CostTP))\n",
    "    fm_thresholds = []\n",
    "    for i in range(len(fpr)):\n",
    "        fm = tpr[i] - (m * fpr[i])\n",
    "        fm_thresholds.append((thresholds[i], fm, fpr[i], tpr[i]))\n",
    "#     fm_thresholds_df = pd.DataFrame(data=fm_thresholds, columns=['Threshold', 'fm', 'FPR', 'TPR'])\n",
    "#     fm_thresholds_df.sort_values(by='fm', inplace=True, ascending=False)\n",
    "    fm_thresholds = sorted(fm_thresholds, key=lambda fm_value: fm_value[1], reverse=True)\n",
    "#     return fm_thresholds_df\n",
    "    return fm_thresholds[0][0]"
   ]
  },
  {
   "cell_type": "code",
   "execution_count": 238,
   "metadata": {},
   "outputs": [
    {
     "data": {
      "text/plain": [
       "0.9960233"
      ]
     },
     "execution_count": 238,
     "metadata": {},
     "output_type": "execute_result"
    }
   ],
   "source": [
    "threshold_opt = threshold_selection_mark(prevalence, fraud_cost_coef, normal_cost_coef, y_val, y_prob[:,1])\n",
    "threshold_opt"
   ]
  },
  {
   "cell_type": "code",
   "execution_count": 190,
   "metadata": {},
   "outputs": [
    {
     "data": {
      "text/html": [
       "<div>\n",
       "<style scoped>\n",
       "    .dataframe tbody tr th:only-of-type {\n",
       "        vertical-align: middle;\n",
       "    }\n",
       "\n",
       "    .dataframe tbody tr th {\n",
       "        vertical-align: top;\n",
       "    }\n",
       "\n",
       "    .dataframe thead th {\n",
       "        text-align: right;\n",
       "    }\n",
       "</style>\n",
       "<table border=\"1\" class=\"dataframe\">\n",
       "  <thead>\n",
       "    <tr style=\"text-align: right;\">\n",
       "      <th></th>\n",
       "      <th>Threshold</th>\n",
       "      <th>fm</th>\n",
       "      <th>FPR</th>\n",
       "      <th>TPR</th>\n",
       "    </tr>\n",
       "  </thead>\n",
       "  <tbody>\n",
       "    <tr>\n",
       "      <td>14</td>\n",
       "      <td>0.996023</td>\n",
       "      <td>0.714915</td>\n",
       "      <td>0.000050</td>\n",
       "      <td>0.755102</td>\n",
       "    </tr>\n",
       "    <tr>\n",
       "      <td>10</td>\n",
       "      <td>0.998756</td>\n",
       "      <td>0.711094</td>\n",
       "      <td>0.000017</td>\n",
       "      <td>0.724490</td>\n",
       "    </tr>\n",
       "    <tr>\n",
       "      <td>12</td>\n",
       "      <td>0.998571</td>\n",
       "      <td>0.707902</td>\n",
       "      <td>0.000033</td>\n",
       "      <td>0.734694</td>\n",
       "    </tr>\n",
       "    <tr>\n",
       "      <td>11</td>\n",
       "      <td>0.998657</td>\n",
       "      <td>0.697698</td>\n",
       "      <td>0.000033</td>\n",
       "      <td>0.724490</td>\n",
       "    </tr>\n",
       "    <tr>\n",
       "      <td>13</td>\n",
       "      <td>0.996626</td>\n",
       "      <td>0.694507</td>\n",
       "      <td>0.000050</td>\n",
       "      <td>0.734694</td>\n",
       "    </tr>\n",
       "  </tbody>\n",
       "</table>\n",
       "</div>"
      ],
      "text/plain": [
       "    Threshold        fm       FPR       TPR\n",
       "14   0.996023  0.714915  0.000050  0.755102\n",
       "10   0.998756  0.711094  0.000017  0.724490\n",
       "12   0.998571  0.707902  0.000033  0.734694\n",
       "11   0.998657  0.697698  0.000033  0.724490\n",
       "13   0.996626  0.694507  0.000050  0.734694"
      ]
     },
     "execution_count": 190,
     "metadata": {},
     "output_type": "execute_result"
    }
   ],
   "source": [
    "threshold_select_df = threshold_selection_mark(prevalence, fraud_cost_coef, normal_cost_coef, y_val, y_prob[:,1])\n",
    "threshold_select_df.head()"
   ]
  },
  {
   "cell_type": "code",
   "execution_count": 223,
   "metadata": {},
   "outputs": [
    {
     "data": {
      "text/plain": [
       "0.018193069294245384"
      ]
     },
     "execution_count": 223,
     "metadata": {},
     "output_type": "execute_result"
    }
   ],
   "source": [
    "threshold_select_df['Threshold'].mean()"
   ]
  },
  {
   "cell_type": "code",
   "execution_count": 250,
   "metadata": {},
   "outputs": [],
   "source": [
    "y_prob_adj = y_prob[:,1]\n",
    "\n",
    "y_prob_adj_new = []\n",
    "for y in y_prob_adj: \n",
    "    if y <= (1-0.99):\n",
    "        y=0\n",
    "        y_prob_adj_new.append(y)\n",
    "    else:\n",
    "        y=1\n",
    "        y_prob_adj_new.append(y)\n"
   ]
  },
  {
   "cell_type": "code",
   "execution_count": 251,
   "metadata": {},
   "outputs": [
    {
     "data": {
      "text/plain": [
       "array([[58565,  1147],\n",
       "       [   14,    84]])"
      ]
     },
     "execution_count": 251,
     "metadata": {},
     "output_type": "execute_result"
    }
   ],
   "source": [
    "confusion_matrix(y_val, y_prob_adj_new)"
   ]
  },
  {
   "cell_type": "code",
   "execution_count": 269,
   "metadata": {},
   "outputs": [
    {
     "name": "stdout",
     "output_type": "stream",
     "text": [
      "\n",
      " clasification report:\n",
      "               precision    recall  f1-score   support\n",
      "\n",
      "           0       1.00      0.98      0.99     59712\n",
      "           1       0.07      0.86      0.13        98\n",
      "\n",
      "    accuracy                           0.98     59810\n",
      "   macro avg       0.53      0.92      0.56     59810\n",
      "weighted avg       1.00      0.98      0.99     59810\n",
      "\n",
      "-----------------------------------------------\n",
      "Frauds: 98 | Missed: 14.3%\n",
      "Total Flagged: 1231 | Real: 1.1%\n"
     ]
    },
    {
     "data": {
      "image/png": "[encoded data removed]",
      "text/plain": [
       "<Figure size 432x288 with 1 Axes>"
      ]
     },
     "metadata": {},
     "output_type": "display_data"
    }
   ],
   "source": [
    "plot_confusion_matix(y_val, y_prob_adj_new, ['Normal', \"Fraud\"], \"XGBoost\")"
   ]
  },
  {
   "cell_type": "code",
   "execution_count": null,
   "metadata": {},
   "outputs": [],
   "source": []
  },
  {
   "cell_type": "code",
   "execution_count": 245,
   "metadata": {},
   "outputs": [],
   "source": [
    "def plot_precision_recall_vs_threshold(precisions, recalls, thresholds):\n",
    "    \"\"\"\n",
    "    Modified from:\n",
    "    Hands-On Machine learning with Scikit-Learn\n",
    "    and TensorFlow; p.89\n",
    "    \"\"\"\n",
    "    plt.figure(figsize=(8, 8))\n",
    "    plt.title(\"Precision and Recall Scores as a function of the Threshold\", fontsize=16)\n",
    "    plt.plot(thresholds, precisions, \"b--\", label=\"Precision\")\n",
    "    plt.plot(thresholds, recalls, \"g-\", label=\"Recall\")\n",
    "    plt.ylabel(\"Score\")\n",
    "    plt.xlabel(\"Threshold\")\n",
    "    plt.legend(loc='best')"
   ]
  },
  {
   "cell_type": "code",
   "execution_count": 214,
   "metadata": {},
   "outputs": [],
   "source": [
    "from sklearn.metrics import precision_recall_curve\n",
    "p, r, thresholds = precision_recall_curve(y_val, y_prob[:,1])"
   ]
  },
  {
   "cell_type": "code",
   "execution_count": 215,
   "metadata": {},
   "outputs": [
    {
     "data": {
      "text/plain": [
       "(47160,)"
      ]
     },
     "execution_count": 215,
     "metadata": {},
     "output_type": "execute_result"
    }
   ],
   "source": [
    "thresholds.shape"
   ]
  },
  {
   "cell_type": "code",
   "execution_count": 216,
   "metadata": {},
   "outputs": [
    {
     "data": {
      "text/plain": [
       "(47161,)"
      ]
     },
     "execution_count": 216,
     "metadata": {},
     "output_type": "execute_result"
    }
   ],
   "source": [
    "r.shape"
   ]
  },
  {
   "cell_type": "code",
   "execution_count": 217,
   "metadata": {},
   "outputs": [],
   "source": [
    "p = list(p[:-1])\n",
    "r = list(r[:-1])"
   ]
  },
  {
   "cell_type": "code",
   "execution_count": 218,
   "metadata": {},
   "outputs": [],
   "source": [
    "thresholds = list(thresholds)"
   ]
  },
  {
   "cell_type": "code",
   "execution_count": 246,
   "metadata": {},
   "outputs": [
    {
     "data": {
      "image/png": "[encoded data removed]",
      "text/plain": [
       "<Figure size 576x576 with 1 Axes>"
      ]
     },
     "metadata": {},
     "output_type": "display_data"
    }
   ],
   "source": [
    "plot_precision_recall_vs_threshold(p, r, thresholds)"
   ]
  },
  {
   "cell_type": "code",
   "execution_count": null,
   "metadata": {},
   "outputs": [],
   "source": []
  }
 ],
 "metadata": {
  "kernelspec": {
   "display_name": "Python 3",
   "language": "python",
   "name": "python3"
  },
  "language_info": {
   "codemirror_mode": {
    "name": "ipython",
    "version": 3
   },
   "file_extension": ".py",
   "mimetype": "text/x-python",
   "name": "python",
   "nbconvert_exporter": "python",
   "pygments_lexer": "ipython3",
   "version": "3.7.4"
  },
  "toc": {
   "base_numbering": 1,
   "nav_menu": {},
   "number_sections": true,
   "sideBar": true,
   "skip_h1_title": false,
   "title_cell": "Table of Contents",
   "title_sidebar": "Contents",
   "toc_cell": false,
   "toc_position": {},
   "toc_section_display": true,
   "toc_window_display": false
  }
 },
 "nbformat": 4,
 "nbformat_minor": 2
}
